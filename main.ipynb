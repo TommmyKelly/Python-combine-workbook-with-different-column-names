{
 "cells": [
  {
   "cell_type": "code",
   "execution_count": 43,
   "id": "ebb3b821",
   "metadata": {},
   "outputs": [],
   "source": [
    "import pandas as pd\n",
    "from pathlib import Path"
   ]
  },
  {
   "cell_type": "markdown",
   "id": "bb3309cf",
   "metadata": {},
   "source": [
    "# Declare emepty list to store each dataframe and declare paths"
   ]
  },
  {
   "cell_type": "code",
   "execution_count": 59,
   "id": "503dcb02",
   "metadata": {},
   "outputs": [
    {
     "data": {
      "text/plain": [
       "WindowsPath('C:/Users/User/Desktop/Projects/Anaconda/Pandas combine worksheets with different columns names/Output')"
      ]
     },
     "execution_count": 59,
     "metadata": {},
     "output_type": "execute_result"
    }
   ],
   "source": [
    "p = Path.cwd().glob('*.xlsx')\n",
    "OUTPUT_DIR =Path.cwd() / 'Output'\n",
    "OUTPUT_DIR.mkdir(exist_ok=True)\n",
    "df_list = []\n",
    "OUTPUT_DIR"
   ]
  },
  {
   "cell_type": "markdown",
   "id": "0b1d7b3f",
   "metadata": {},
   "source": [
    "## create a dictionary to change names"
   ]
  },
  {
   "cell_type": "code",
   "execution_count": 53,
   "id": "afa959df",
   "metadata": {},
   "outputs": [],
   "source": [
    "names = {'Totals':'Total','Cost':'Price','Items':'Units' }"
   ]
  },
  {
   "cell_type": "markdown",
   "id": "410c21a7",
   "metadata": {},
   "source": [
    "## loop all files with .xlsx extension"
   ]
  },
  {
   "cell_type": "code",
   "execution_count": 57,
   "id": "667e8c56",
   "metadata": {},
   "outputs": [
    {
     "name": "stdout",
     "output_type": "stream",
     "text": [
      "Book1\n",
      "Book2\n",
      "Book3\n"
     ]
    }
   ],
   "source": [
    "for f in p:\n",
    "    print(f.stem)"
   ]
  },
  {
   "cell_type": "code",
   "execution_count": 61,
   "id": "9a55e043",
   "metadata": {},
   "outputs": [
    {
     "data": {
      "text/plain": [
       "[         Date  Units  Price  Total   file\n",
       " 0  2022-02-01     48     16    768  Book1\n",
       " 1  2022-02-02     12      7     84  Book1\n",
       " 2  2022-02-03     25     80   2000  Book1\n",
       " 3  2022-02-04     41     90   3690  Book1\n",
       " 4  2022-02-07     11     17    187  Book1\n",
       " 5  2022-02-08     25     91   2275  Book1\n",
       " 6  2022-02-09     41     57   2337  Book1\n",
       " 7  2022-02-10     37     67   2479  Book1\n",
       " 8  2022-02-11     19     11    209  Book1\n",
       " 9  2022-02-14     35     24    840  Book1\n",
       " 10 2022-02-15     27     89   2403  Book1\n",
       " 11 2022-02-16     35      7    245  Book1\n",
       " 12 2022-02-17     46     49   2254  Book1\n",
       " 13 2022-02-18     29     13    377  Book1\n",
       " 14 2022-02-21     49     16    784  Book1\n",
       " 15 2022-02-22     37     24    888  Book1\n",
       " 16 2022-02-23     31     36   1116  Book1\n",
       " 17 2022-02-24     34     29    986  Book1\n",
       " 18 2022-02-25     24     35    840  Book1\n",
       " 19 2022-02-28      8     91    728  Book1\n",
       " 20 2022-03-01     23     39    897  Book1\n",
       " 21 2022-03-02      9     24    216  Book1\n",
       " 22 2022-03-03     36      6    216  Book1\n",
       " 23 2022-03-04     21     22    462  Book1\n",
       " 24 2022-03-07     14     14    196  Book1\n",
       " 25 2022-03-08     28     66   1848  Book1\n",
       " 26 2022-03-09     22     92   2024  Book1\n",
       " 27 2022-03-10     43     49   2107  Book1,\n",
       "          Date  Units  Price  Total   file\n",
       " 0  2022-02-01     48     16    768  Book2\n",
       " 1  2022-02-02     12      7     84  Book2\n",
       " 2  2022-02-03     25     80   2000  Book2\n",
       " 3  2022-02-04     41     90   3690  Book2\n",
       " 4  2022-02-07     11     17    187  Book2\n",
       " 5  2022-02-08     25     91   2275  Book2\n",
       " 6  2022-02-09     41     57   2337  Book2\n",
       " 7  2022-02-10     37     67   2479  Book2\n",
       " 8  2022-02-11     19     11    209  Book2\n",
       " 9  2022-02-14     35     24    840  Book2\n",
       " 10 2022-02-15     27     89   2403  Book2\n",
       " 11 2022-02-16     35      7    245  Book2\n",
       " 12 2022-02-17     46     49   2254  Book2\n",
       " 13 2022-02-18     29     13    377  Book2\n",
       " 14 2022-02-21     49     16    784  Book2\n",
       " 15 2022-02-22     37     24    888  Book2\n",
       " 16 2022-02-23     31     36   1116  Book2\n",
       " 17 2022-02-24     34     29    986  Book2\n",
       " 18 2022-02-25     24     35    840  Book2\n",
       " 19 2022-02-28      8     91    728  Book2\n",
       " 20 2022-03-01     23     39    897  Book2\n",
       " 21 2022-03-02      9     24    216  Book2\n",
       " 22 2022-03-03     36      6    216  Book2\n",
       " 23 2022-03-04     21     22    462  Book2\n",
       " 24 2022-03-07     14     14    196  Book2\n",
       " 25 2022-03-08     28     66   1848  Book2\n",
       " 26 2022-03-09     22     92   2024  Book2\n",
       " 27 2022-03-10     43     49   2107  Book2,\n",
       "          Date  Units  Price  Total   file\n",
       " 0  2022-02-01     48     16    768  Book3\n",
       " 1  2022-02-02     12      7     84  Book3\n",
       " 2  2022-02-03     25     80   2000  Book3\n",
       " 3  2022-02-04     41     90   3690  Book3\n",
       " 4  2022-02-07     11     17    187  Book3\n",
       " 5  2022-02-08     25     91   2275  Book3\n",
       " 6  2022-02-09     41     57   2337  Book3\n",
       " 7  2022-02-10     37     67   2479  Book3\n",
       " 8  2022-02-11     19     11    209  Book3\n",
       " 9  2022-02-14     35     24    840  Book3\n",
       " 10 2022-02-15     27     89   2403  Book3\n",
       " 11 2022-02-16     35      7    245  Book3\n",
       " 12 2022-02-17     46     49   2254  Book3\n",
       " 13 2022-02-18     29     13    377  Book3\n",
       " 14 2022-02-21     49     16    784  Book3\n",
       " 15 2022-02-22     37     24    888  Book3\n",
       " 16 2022-02-23     31     36   1116  Book3\n",
       " 17 2022-02-24     34     29    986  Book3\n",
       " 18 2022-02-25     24     35    840  Book3\n",
       " 19 2022-02-28      8     91    728  Book3\n",
       " 20 2022-03-01     23     39    897  Book3\n",
       " 21 2022-03-02      9     24    216  Book3\n",
       " 22 2022-03-03     36      6    216  Book3\n",
       " 23 2022-03-04     21     22    462  Book3\n",
       " 24 2022-03-07     14     14    196  Book3\n",
       " 25 2022-03-08     28     66   1848  Book3\n",
       " 26 2022-03-09     22     92   2024  Book3\n",
       " 27 2022-03-10     43     49   2107  Book3]"
      ]
     },
     "execution_count": 61,
     "metadata": {},
     "output_type": "execute_result"
    }
   ],
   "source": [
    "\n",
    "for f in p:\n",
    "    data = pd.read_excel(f.name)\n",
    "    data['file'] = f.stem\n",
    "    data.rename(columns=names, inplace=True)\n",
    "    df_list.append(data)\n",
    "df_list"
   ]
  },
  {
   "cell_type": "markdown",
   "id": "432448c0",
   "metadata": {},
   "source": [
    "## concat all dataframes"
   ]
  },
  {
   "cell_type": "code",
   "execution_count": 62,
   "id": "baebfffb",
   "metadata": {},
   "outputs": [],
   "source": [
    "data = pd.concat(df_list, ignore_index=True)\n",
    "data.columns = data.columns.str.title()\n",
    "data['Date'] = data['Date'].dt.strftime('%d/%m/%Y')"
   ]
  },
  {
   "cell_type": "markdown",
   "id": "a6dc0b46",
   "metadata": {},
   "source": [
    "## export as xlsx"
   ]
  },
  {
   "cell_type": "code",
   "execution_count": 64,
   "id": "dd1d0517",
   "metadata": {},
   "outputs": [
    {
     "name": "stdout",
     "output_type": "stream",
     "text": [
      "Done\n"
     ]
    }
   ],
   "source": [
    "data.to_excel(f\"{OUTPUT_DIR}/data.xlsx\",index=False)\n",
    "print('Done')"
   ]
  }
 ],
 "metadata": {
  "kernelspec": {
   "display_name": "Python 3 (ipykernel)",
   "language": "python",
   "name": "python3"
  },
  "language_info": {
   "codemirror_mode": {
    "name": "ipython",
    "version": 3
   },
   "file_extension": ".py",
   "mimetype": "text/x-python",
   "name": "python",
   "nbconvert_exporter": "python",
   "pygments_lexer": "ipython3",
   "version": "3.9.7"
  }
 },
 "nbformat": 4,
 "nbformat_minor": 5
}
